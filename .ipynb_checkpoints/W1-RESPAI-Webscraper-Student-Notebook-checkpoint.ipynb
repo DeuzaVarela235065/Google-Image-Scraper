{
 "cells": [
  {
   "cell_type": "markdown",
   "metadata": {},
   "source": [
    "# Image scraper\n",
    "\n",
    "## Step 1: Create the Conda Environment\n",
    "Open your terminal (on macOS/Linux) or Anaconda Prompt (on Windows) and run the following command to create a new Conda environment named image_scraper with Python 3.11:\n",
    "\n",
    "```console\n",
    "conda create --name image_scraper python=3.11\n",
    "```\n",
    "\n",
    "## Step 2: Activate the Environment\n",
    "\n",
    "Activate the newly created environment using:\n",
    "\n",
    "```console\n",
    "conda activate image_scraper\n",
    "```\n",
    "\n",
    "## Step 3: Install Required Packages\n",
    "\n",
    "Install the necessary libraries for web scraping (Selenium and Requests), WebDriver Manager for Selenium driver management, and Jupyter to run and manage your notebooks. Here's the command sequence:\n",
    "\n",
    "```console\n",
    "conda install selenium requests jupyter -c conda-forge\n",
    "pip install webdriver-manager\n",
    "```\n",
    "\n",
    "Using -c conda-forge specifies that Conda should install these packages from the Conda-Forge repository, which often has more up-to-date packages than the default channel.\n",
    "\n",
    "## Step 4: Install Jupyter Kernel\n",
    "To make your image_scraper environment available as a kernel in Jupyter Notebooks, install ipykernel and add it as a kernel:\n",
    "\n",
    "```console\n",
    "conda install ipykernel -c conda-forge\n",
    "python -m ipykernel install --user --name=image_scraper --display-name=\"Python 3.11 (image_scraper)\"\n",
    "```\n",
    "\n",
    "This command adds the image_scraper environment as a kernel option in Jupyter, allowing you to select it when working on notebooks related to your image scraping project.\n",
    "\n",
    "## Step 5: Run Jupyter Notebook\n",
    "\n",
    "See code below for the image scraper:\n"
   ]
  },
  {
   "cell_type": "code",
   "execution_count": 2,
   "metadata": {},
   "outputs": [
    {
     "ename": "ModuleNotFoundError",
     "evalue": "No module named 'selenium'",
     "output_type": "error",
     "traceback": [
      "\u001b[0;31m---------------------------------------------------------------------------\u001b[0m",
      "\u001b[0;31mModuleNotFoundError\u001b[0m                       Traceback (most recent call last)",
      "Cell \u001b[0;32mIn[2], line 1\u001b[0m\n\u001b[0;32m----> 1\u001b[0m \u001b[38;5;28;01mfrom\u001b[39;00m \u001b[38;5;21;01mselenium\u001b[39;00m \u001b[38;5;28;01mimport\u001b[39;00m webdriver\n\u001b[1;32m      2\u001b[0m \u001b[38;5;28;01mfrom\u001b[39;00m \u001b[38;5;21;01mselenium\u001b[39;00m\u001b[38;5;21;01m.\u001b[39;00m\u001b[38;5;21;01mwebdriver\u001b[39;00m\u001b[38;5;21;01m.\u001b[39;00m\u001b[38;5;21;01mcommon\u001b[39;00m\u001b[38;5;21;01m.\u001b[39;00m\u001b[38;5;21;01mby\u001b[39;00m \u001b[38;5;28;01mimport\u001b[39;00m By\n\u001b[1;32m      3\u001b[0m \u001b[38;5;28;01mfrom\u001b[39;00m \u001b[38;5;21;01mselenium\u001b[39;00m\u001b[38;5;21;01m.\u001b[39;00m\u001b[38;5;21;01mwebdriver\u001b[39;00m\u001b[38;5;21;01m.\u001b[39;00m\u001b[38;5;21;01mchrome\u001b[39;00m\u001b[38;5;21;01m.\u001b[39;00m\u001b[38;5;21;01mservice\u001b[39;00m \u001b[38;5;28;01mimport\u001b[39;00m Service\n",
      "\u001b[0;31mModuleNotFoundError\u001b[0m: No module named 'selenium'"
     ]
    }
   ],
   "source": [
    "from selenium import webdriver\n",
    "from selenium.webdriver.common.by import By\n",
    "from selenium.webdriver.chrome.service import Service\n",
    "from webdriver_manager.chrome import ChromeDriverManager\n",
    "import requests\n",
    "import os\n",
    "import time\n",
    "\n",
    "def download_image(image_url, directory, index):\n",
    "    \"\"\"\n",
    "    Downloads an image from a given URL into a specified directory.\n",
    "    \"\"\"\n",
    "    try:\n",
    "        response = requests.get(image_url)\n",
    "        if response.status_code == 200:\n",
    "            file_path = os.path.join(directory, f'image_{index}.jpg')\n",
    "            with open(file_path, 'wb') as file:\n",
    "                file.write(response.content)\n",
    "            print(f\"Downloaded {file_path}\")\n",
    "    except Exception as e:\n",
    "        print(f\"Error downloading {image_url}: {e}\")\n",
    "\n",
    "def scrape_images(search_term, limit):\n",
    "    \"\"\"\n",
    "    Scrapes images from DuckDuckGo based on a search term up to a specified limit.\n",
    "    \"\"\"\n",
    "    # Initialize the Chrome driver\n",
    "    service = Service(ChromeDriverManager().install())\n",
    "    driver = webdriver.Chrome(service=service)\n",
    "\n",
    "    # Go to DuckDuckGo's image search page\n",
    "    driver.get(f\"https://duckduckgo.com/?q={search_term}&iax=images&ia=images\")\n",
    "    time.sleep(3)  # Allow time for the page to load\n",
    "\n",
    "    # Scroll the page to ensure that images are loaded\n",
    "    last_height = driver.execute_script(\"return document.body.scrollHeight\")\n",
    "    while True:\n",
    "        driver.execute_script(\"window.scrollTo(0, document.body.scrollHeight);\")\n",
    "        time.sleep(3)  # Wait for new images to load\n",
    "        new_height = driver.execute_script(\"return document.body.scrollHeight\")\n",
    "        if new_height == last_height:\n",
    "            break\n",
    "        last_height = new_height\n",
    "\n",
    "    # Find image elements on the page\n",
    "    images = driver.find_elements(By.CSS_SELECTOR, \"img.tile--img__img.js-lazyload\")\n",
    "    images = images[:limit]  # Limit the number of images to download\n",
    "\n",
    "    # Create a directory for the downloaded images\n",
    "    directory = f\"downloaded_images_{search_term.replace(' ', '_')}\"\n",
    "    if not os.path.exists(directory):\n",
    "        os.makedirs(directory)\n",
    "\n",
    "    # Download the images\n",
    "    for index, image in enumerate(images):\n",
    "        image_url = image.get_attribute('src')\n",
    "        if image_url:\n",
    "            download_image(image_url, directory, index)\n",
    "\n",
    "    driver.quit()\n",
    "    print(f\"Finished downloading images to {directory}.\")\n",
    "\n",
    "# Example usage\n",
    "search_term = \"sunset\"  # Specify the search term here\n",
    "limit = 5  # Specify the maximum number of images to download\n",
    "\n",
    "scrape_images(search_term, limit)\n"
   ]
  },
  {
   "cell_type": "markdown",
   "metadata": {},
   "source": [
    "## Step 6: Deactivating the Environment\n",
    "\n",
    "Once you're done working in the image_scraper environment, you can deactivate it and return to your base environment by running:\n",
    "\n",
    "```console\n",
    "conda deactivate\n",
    "```\n",
    "\n",
    "## Important Considerations\n",
    "\n",
    "- This script is for educational purposes. Always respect the website's terms of service and copyright laws.\n",
    "- The performance and reliability of web scraping scripts can vary based on network conditions and changes to the target website's layout and design."
   ]
  }
 ],
 "metadata": {
  "hide_input": false,
  "kernelspec": {
   "display_name": "Python 3 (ipykernel)",
   "language": "python",
   "name": "python3"
  },
  "language_info": {
   "codemirror_mode": {
    "name": "ipython",
    "version": 3
   },
   "file_extension": ".py",
   "mimetype": "text/x-python",
   "name": "python",
   "nbconvert_exporter": "python",
   "pygments_lexer": "ipython3",
   "version": "3.11.5"
  },
  "toc": {
   "base_numbering": 1,
   "nav_menu": {},
   "number_sections": true,
   "sideBar": true,
   "skip_h1_title": false,
   "title_cell": "Table of Contents",
   "title_sidebar": "Contents",
   "toc_cell": false,
   "toc_position": {},
   "toc_section_display": true,
   "toc_window_display": false
  },
  "varInspector": {
   "cols": {
    "lenName": 16,
    "lenType": 16,
    "lenVar": 40
   },
   "kernels_config": {
    "python": {
     "delete_cmd_postfix": "",
     "delete_cmd_prefix": "del ",
     "library": "var_list.py",
     "varRefreshCmd": "print(var_dic_list())"
    },
    "r": {
     "delete_cmd_postfix": ") ",
     "delete_cmd_prefix": "rm(",
     "library": "var_list.r",
     "varRefreshCmd": "cat(var_dic_list()) "
    }
   },
   "types_to_exclude": [
    "module",
    "function",
    "builtin_function_or_method",
    "instance",
    "_Feature"
   ],
   "window_display": false
  }
 },
 "nbformat": 4,
 "nbformat_minor": 2
}
